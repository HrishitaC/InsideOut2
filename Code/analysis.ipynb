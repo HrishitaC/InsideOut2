{
 "cells": [
  {
   "cell_type": "code",
   "execution_count": 9,
   "metadata": {},
   "outputs": [],
   "source": [
    "import pandas as pd\n",
    "import numpy as np\n",
    "from scipy.spatial import distance\n",
    "from tqdm.notebook import tqdm\n",
    "\n",
    "queries = pd.read_csv(\"../Results/query_EP.csv\")\n",
    "gemma_OG = pd.read_csv(\"../Results/gemma_EP.csv\")\n",
    "gemma_RQ = pd.read_csv(\"../Results/gemma_RQ_EP.csv\")\n",
    "gpt_OG = pd.read_csv(\"../Results/gpt_EP.csv\")\n",
    "gpt_RQ = pd.read_csv(\"../Results/gpt_RQ_EP.csv\")"
   ]
  },
  {
   "cell_type": "markdown",
   "metadata": {},
   "source": [
    "### JSD between query-response pairs"
   ]
  },
  {
   "cell_type": "code",
   "execution_count": 44,
   "metadata": {},
   "outputs": [
    {
     "data": {
      "text/plain": [
       "0.0275088786378906"
      ]
     },
     "execution_count": 44,
     "metadata": {},
     "output_type": "execute_result"
    }
   ],
   "source": [
    "test = np.array(queries[[\"positive\", \"negative\", \"neutral\"]].iloc[[0,1]])\n",
    "distance.jensenshannon(test[0], test[1]) # lesser the value, higher the similarity"
   ]
  },
  {
   "cell_type": "code",
   "execution_count": 14,
   "metadata": {},
   "outputs": [],
   "source": [
    "np.seterr(divide='warn', invalid='warn')\n",
    "def compute_EP_JSD(row1, row2):\n",
    "    r1_sentiments = np.array(row1[[\"positive\", \"negative\", \"neutral\"]], dtype=float)\n",
    "    r2_sentiments = np.array(row2[[\"positive\", \"negative\", \"neutral\"]], dtype=float)\n",
    "    # print(r1_sentiments, r2_sentiments)\n",
    "    \n",
    "    r1_emotions = np.array(row1[[\"joy\", \"anger\", \"surprise\", \"disgust\", \"fear\", \"sadness\", \"trust\", \"expectations\"]], dtype=float)\n",
    "    r2_emotions = np.array(row2[[\"joy\", \"anger\", \"surprise\", \"disgust\", \"fear\", \"sadness\", \"trust\", \"expectations\"]], dtype=float)\n",
    "    \n",
    "    sentiment_JSD = distance.jensenshannon(r1_sentiments, r2_sentiments)\n",
    "    emotion_JSD = distance.jensenshannon(r1_emotions, r2_emotions)\n",
    "\n",
    "    return sentiment_JSD, emotion_JSD"
   ]
  },
  {
   "cell_type": "code",
   "execution_count": 15,
   "metadata": {},
   "outputs": [],
   "source": [
    "def compute_JSD(OG_resp_df, RQ_resp_df, LLM):\n",
    "\n",
    "    query_resp_JSD = []\n",
    "\n",
    "    for _, row in tqdm(queries.iterrows(), total=len(queries)):\n",
    "        query = row[\"query\"]\n",
    "        OG_resp = OG_resp_df.loc[OG_resp_df[\"query\"]==query].iloc[0]\n",
    "        OG_resp_JSD = compute_EP_JSD(row, OG_resp) # JSD between OG query and OG response pairs\n",
    "\n",
    "        RQ_male_resp = RQ_resp_df.loc[(RQ_resp_df[\"query\"]==query) & (RQ_resp_df[\"gender\"]==\"male\")].iloc[0]\n",
    "        RQ_male_JSD = compute_EP_JSD(row, RQ_male_resp) # JSD between OG query and response to reformulated query (male version)\n",
    "\n",
    "        RQ_female_resp = RQ_resp_df.loc[(RQ_resp_df[\"query\"]==query) & (RQ_resp_df[\"gender\"]==\"female\")].iloc[0]\n",
    "        RQ_female_JSD = compute_EP_JSD(row, RQ_female_resp)\n",
    "\n",
    "        query_resp_JSD.append([query, OG_resp_JSD[0], OG_resp_JSD[1], RQ_male_JSD[0], RQ_male_JSD[1], RQ_female_JSD[0], RQ_female_JSD[1]])\n",
    "\n",
    "    query_resp_df = pd.DataFrame(query_resp_JSD, columns=[\"query\", \"OG_sentiment_JSD\", \"OG_emotion_JSD\", \"RQ_male_sentiment_JSD\", \"RQ_male_emotion_JSD\", \"RQ_female_sentiment_JSD\", \"RQ_female_emotion_JSD\"])\n",
    "    query_resp_df.to_csv(\"../Results/query_resp_JSD_\" + LLM + \".csv\", index=False)\n",
    "    # print(query_resp_df.head())"
   ]
  },
  {
   "cell_type": "code",
   "execution_count": 16,
   "metadata": {},
   "outputs": [
    {
     "data": {
      "application/vnd.jupyter.widget-view+json": {
       "model_id": "ad340a5455e84c5fb70d1c4931156fa3",
       "version_major": 2,
       "version_minor": 0
      },
      "text/plain": [
       "  0%|          | 0/110 [00:00<?, ?it/s]"
      ]
     },
     "metadata": {},
     "output_type": "display_data"
    },
    {
     "name": "stderr",
     "output_type": "stream",
     "text": [
      "c:\\Users\\Hrishita Chakrabarti\\anaconda3\\envs\\SOLandChildren\\lib\\site-packages\\scipy\\spatial\\distance.py:1249: RuntimeWarning: invalid value encountered in divide\n",
      "  p = p / np.sum(p, axis=axis, keepdims=True)\n",
      "c:\\Users\\Hrishita Chakrabarti\\anaconda3\\envs\\SOLandChildren\\lib\\site-packages\\scipy\\spatial\\distance.py:1249: RuntimeWarning: invalid value encountered in divide\n",
      "  p = p / np.sum(p, axis=axis, keepdims=True)\n",
      "c:\\Users\\Hrishita Chakrabarti\\anaconda3\\envs\\SOLandChildren\\lib\\site-packages\\scipy\\spatial\\distance.py:1249: RuntimeWarning: invalid value encountered in divide\n",
      "  p = p / np.sum(p, axis=axis, keepdims=True)\n",
      "c:\\Users\\Hrishita Chakrabarti\\anaconda3\\envs\\SOLandChildren\\lib\\site-packages\\scipy\\spatial\\distance.py:1249: RuntimeWarning: invalid value encountered in divide\n",
      "  p = p / np.sum(p, axis=axis, keepdims=True)\n",
      "c:\\Users\\Hrishita Chakrabarti\\anaconda3\\envs\\SOLandChildren\\lib\\site-packages\\scipy\\spatial\\distance.py:1249: RuntimeWarning: invalid value encountered in divide\n",
      "  p = p / np.sum(p, axis=axis, keepdims=True)\n",
      "c:\\Users\\Hrishita Chakrabarti\\anaconda3\\envs\\SOLandChildren\\lib\\site-packages\\scipy\\spatial\\distance.py:1249: RuntimeWarning: invalid value encountered in divide\n",
      "  p = p / np.sum(p, axis=axis, keepdims=True)\n",
      "c:\\Users\\Hrishita Chakrabarti\\anaconda3\\envs\\SOLandChildren\\lib\\site-packages\\scipy\\spatial\\distance.py:1249: RuntimeWarning: invalid value encountered in divide\n",
      "  p = p / np.sum(p, axis=axis, keepdims=True)\n",
      "c:\\Users\\Hrishita Chakrabarti\\anaconda3\\envs\\SOLandChildren\\lib\\site-packages\\scipy\\spatial\\distance.py:1249: RuntimeWarning: invalid value encountered in divide\n",
      "  p = p / np.sum(p, axis=axis, keepdims=True)\n",
      "c:\\Users\\Hrishita Chakrabarti\\anaconda3\\envs\\SOLandChildren\\lib\\site-packages\\scipy\\spatial\\distance.py:1249: RuntimeWarning: invalid value encountered in divide\n",
      "  p = p / np.sum(p, axis=axis, keepdims=True)\n",
      "c:\\Users\\Hrishita Chakrabarti\\anaconda3\\envs\\SOLandChildren\\lib\\site-packages\\scipy\\spatial\\distance.py:1249: RuntimeWarning: invalid value encountered in divide\n",
      "  p = p / np.sum(p, axis=axis, keepdims=True)\n",
      "c:\\Users\\Hrishita Chakrabarti\\anaconda3\\envs\\SOLandChildren\\lib\\site-packages\\scipy\\spatial\\distance.py:1249: RuntimeWarning: invalid value encountered in divide\n",
      "  p = p / np.sum(p, axis=axis, keepdims=True)\n",
      "c:\\Users\\Hrishita Chakrabarti\\anaconda3\\envs\\SOLandChildren\\lib\\site-packages\\scipy\\spatial\\distance.py:1249: RuntimeWarning: invalid value encountered in divide\n",
      "  p = p / np.sum(p, axis=axis, keepdims=True)\n",
      "c:\\Users\\Hrishita Chakrabarti\\anaconda3\\envs\\SOLandChildren\\lib\\site-packages\\scipy\\spatial\\distance.py:1249: RuntimeWarning: invalid value encountered in divide\n",
      "  p = p / np.sum(p, axis=axis, keepdims=True)\n",
      "c:\\Users\\Hrishita Chakrabarti\\anaconda3\\envs\\SOLandChildren\\lib\\site-packages\\scipy\\spatial\\distance.py:1249: RuntimeWarning: invalid value encountered in divide\n",
      "  p = p / np.sum(p, axis=axis, keepdims=True)\n",
      "c:\\Users\\Hrishita Chakrabarti\\anaconda3\\envs\\SOLandChildren\\lib\\site-packages\\scipy\\spatial\\distance.py:1249: RuntimeWarning: invalid value encountered in divide\n",
      "  p = p / np.sum(p, axis=axis, keepdims=True)\n",
      "c:\\Users\\Hrishita Chakrabarti\\anaconda3\\envs\\SOLandChildren\\lib\\site-packages\\scipy\\spatial\\distance.py:1249: RuntimeWarning: invalid value encountered in divide\n",
      "  p = p / np.sum(p, axis=axis, keepdims=True)\n",
      "c:\\Users\\Hrishita Chakrabarti\\anaconda3\\envs\\SOLandChildren\\lib\\site-packages\\scipy\\spatial\\distance.py:1249: RuntimeWarning: invalid value encountered in divide\n",
      "  p = p / np.sum(p, axis=axis, keepdims=True)\n",
      "c:\\Users\\Hrishita Chakrabarti\\anaconda3\\envs\\SOLandChildren\\lib\\site-packages\\scipy\\spatial\\distance.py:1249: RuntimeWarning: invalid value encountered in divide\n",
      "  p = p / np.sum(p, axis=axis, keepdims=True)\n",
      "c:\\Users\\Hrishita Chakrabarti\\anaconda3\\envs\\SOLandChildren\\lib\\site-packages\\scipy\\spatial\\distance.py:1249: RuntimeWarning: invalid value encountered in divide\n",
      "  p = p / np.sum(p, axis=axis, keepdims=True)\n",
      "c:\\Users\\Hrishita Chakrabarti\\anaconda3\\envs\\SOLandChildren\\lib\\site-packages\\scipy\\spatial\\distance.py:1249: RuntimeWarning: invalid value encountered in divide\n",
      "  p = p / np.sum(p, axis=axis, keepdims=True)\n",
      "c:\\Users\\Hrishita Chakrabarti\\anaconda3\\envs\\SOLandChildren\\lib\\site-packages\\scipy\\spatial\\distance.py:1249: RuntimeWarning: invalid value encountered in divide\n",
      "  p = p / np.sum(p, axis=axis, keepdims=True)\n",
      "c:\\Users\\Hrishita Chakrabarti\\anaconda3\\envs\\SOLandChildren\\lib\\site-packages\\scipy\\spatial\\distance.py:1249: RuntimeWarning: invalid value encountered in divide\n",
      "  p = p / np.sum(p, axis=axis, keepdims=True)\n",
      "c:\\Users\\Hrishita Chakrabarti\\anaconda3\\envs\\SOLandChildren\\lib\\site-packages\\scipy\\spatial\\distance.py:1249: RuntimeWarning: invalid value encountered in divide\n",
      "  p = p / np.sum(p, axis=axis, keepdims=True)\n",
      "c:\\Users\\Hrishita Chakrabarti\\anaconda3\\envs\\SOLandChildren\\lib\\site-packages\\scipy\\spatial\\distance.py:1249: RuntimeWarning: invalid value encountered in divide\n",
      "  p = p / np.sum(p, axis=axis, keepdims=True)\n",
      "c:\\Users\\Hrishita Chakrabarti\\anaconda3\\envs\\SOLandChildren\\lib\\site-packages\\scipy\\spatial\\distance.py:1249: RuntimeWarning: invalid value encountered in divide\n",
      "  p = p / np.sum(p, axis=axis, keepdims=True)\n",
      "c:\\Users\\Hrishita Chakrabarti\\anaconda3\\envs\\SOLandChildren\\lib\\site-packages\\scipy\\spatial\\distance.py:1249: RuntimeWarning: invalid value encountered in divide\n",
      "  p = p / np.sum(p, axis=axis, keepdims=True)\n",
      "c:\\Users\\Hrishita Chakrabarti\\anaconda3\\envs\\SOLandChildren\\lib\\site-packages\\scipy\\spatial\\distance.py:1249: RuntimeWarning: invalid value encountered in divide\n",
      "  p = p / np.sum(p, axis=axis, keepdims=True)\n",
      "c:\\Users\\Hrishita Chakrabarti\\anaconda3\\envs\\SOLandChildren\\lib\\site-packages\\scipy\\spatial\\distance.py:1249: RuntimeWarning: invalid value encountered in divide\n",
      "  p = p / np.sum(p, axis=axis, keepdims=True)\n",
      "c:\\Users\\Hrishita Chakrabarti\\anaconda3\\envs\\SOLandChildren\\lib\\site-packages\\scipy\\spatial\\distance.py:1249: RuntimeWarning: invalid value encountered in divide\n",
      "  p = p / np.sum(p, axis=axis, keepdims=True)\n",
      "c:\\Users\\Hrishita Chakrabarti\\anaconda3\\envs\\SOLandChildren\\lib\\site-packages\\scipy\\spatial\\distance.py:1249: RuntimeWarning: invalid value encountered in divide\n",
      "  p = p / np.sum(p, axis=axis, keepdims=True)\n",
      "c:\\Users\\Hrishita Chakrabarti\\anaconda3\\envs\\SOLandChildren\\lib\\site-packages\\scipy\\spatial\\distance.py:1249: RuntimeWarning: invalid value encountered in divide\n",
      "  p = p / np.sum(p, axis=axis, keepdims=True)\n",
      "c:\\Users\\Hrishita Chakrabarti\\anaconda3\\envs\\SOLandChildren\\lib\\site-packages\\scipy\\spatial\\distance.py:1249: RuntimeWarning: invalid value encountered in divide\n",
      "  p = p / np.sum(p, axis=axis, keepdims=True)\n",
      "c:\\Users\\Hrishita Chakrabarti\\anaconda3\\envs\\SOLandChildren\\lib\\site-packages\\scipy\\spatial\\distance.py:1249: RuntimeWarning: invalid value encountered in divide\n",
      "  p = p / np.sum(p, axis=axis, keepdims=True)\n",
      "c:\\Users\\Hrishita Chakrabarti\\anaconda3\\envs\\SOLandChildren\\lib\\site-packages\\scipy\\spatial\\distance.py:1249: RuntimeWarning: invalid value encountered in divide\n",
      "  p = p / np.sum(p, axis=axis, keepdims=True)\n",
      "c:\\Users\\Hrishita Chakrabarti\\anaconda3\\envs\\SOLandChildren\\lib\\site-packages\\scipy\\spatial\\distance.py:1249: RuntimeWarning: invalid value encountered in divide\n",
      "  p = p / np.sum(p, axis=axis, keepdims=True)\n",
      "c:\\Users\\Hrishita Chakrabarti\\anaconda3\\envs\\SOLandChildren\\lib\\site-packages\\scipy\\spatial\\distance.py:1249: RuntimeWarning: invalid value encountered in divide\n",
      "  p = p / np.sum(p, axis=axis, keepdims=True)\n",
      "c:\\Users\\Hrishita Chakrabarti\\anaconda3\\envs\\SOLandChildren\\lib\\site-packages\\scipy\\spatial\\distance.py:1249: RuntimeWarning: invalid value encountered in divide\n",
      "  p = p / np.sum(p, axis=axis, keepdims=True)\n",
      "c:\\Users\\Hrishita Chakrabarti\\anaconda3\\envs\\SOLandChildren\\lib\\site-packages\\scipy\\spatial\\distance.py:1249: RuntimeWarning: invalid value encountered in divide\n",
      "  p = p / np.sum(p, axis=axis, keepdims=True)\n",
      "c:\\Users\\Hrishita Chakrabarti\\anaconda3\\envs\\SOLandChildren\\lib\\site-packages\\scipy\\spatial\\distance.py:1249: RuntimeWarning: invalid value encountered in divide\n",
      "  p = p / np.sum(p, axis=axis, keepdims=True)\n",
      "c:\\Users\\Hrishita Chakrabarti\\anaconda3\\envs\\SOLandChildren\\lib\\site-packages\\scipy\\spatial\\distance.py:1249: RuntimeWarning: invalid value encountered in divide\n",
      "  p = p / np.sum(p, axis=axis, keepdims=True)\n",
      "c:\\Users\\Hrishita Chakrabarti\\anaconda3\\envs\\SOLandChildren\\lib\\site-packages\\scipy\\spatial\\distance.py:1249: RuntimeWarning: invalid value encountered in divide\n",
      "  p = p / np.sum(p, axis=axis, keepdims=True)\n",
      "c:\\Users\\Hrishita Chakrabarti\\anaconda3\\envs\\SOLandChildren\\lib\\site-packages\\scipy\\spatial\\distance.py:1249: RuntimeWarning: invalid value encountered in divide\n",
      "  p = p / np.sum(p, axis=axis, keepdims=True)\n",
      "c:\\Users\\Hrishita Chakrabarti\\anaconda3\\envs\\SOLandChildren\\lib\\site-packages\\scipy\\spatial\\distance.py:1249: RuntimeWarning: invalid value encountered in divide\n",
      "  p = p / np.sum(p, axis=axis, keepdims=True)\n",
      "c:\\Users\\Hrishita Chakrabarti\\anaconda3\\envs\\SOLandChildren\\lib\\site-packages\\scipy\\spatial\\distance.py:1249: RuntimeWarning: invalid value encountered in divide\n",
      "  p = p / np.sum(p, axis=axis, keepdims=True)\n",
      "c:\\Users\\Hrishita Chakrabarti\\anaconda3\\envs\\SOLandChildren\\lib\\site-packages\\scipy\\spatial\\distance.py:1249: RuntimeWarning: invalid value encountered in divide\n",
      "  p = p / np.sum(p, axis=axis, keepdims=True)\n",
      "c:\\Users\\Hrishita Chakrabarti\\anaconda3\\envs\\SOLandChildren\\lib\\site-packages\\scipy\\spatial\\distance.py:1249: RuntimeWarning: invalid value encountered in divide\n",
      "  p = p / np.sum(p, axis=axis, keepdims=True)\n",
      "c:\\Users\\Hrishita Chakrabarti\\anaconda3\\envs\\SOLandChildren\\lib\\site-packages\\scipy\\spatial\\distance.py:1249: RuntimeWarning: invalid value encountered in divide\n",
      "  p = p / np.sum(p, axis=axis, keepdims=True)\n",
      "c:\\Users\\Hrishita Chakrabarti\\anaconda3\\envs\\SOLandChildren\\lib\\site-packages\\scipy\\spatial\\distance.py:1249: RuntimeWarning: invalid value encountered in divide\n",
      "  p = p / np.sum(p, axis=axis, keepdims=True)\n"
     ]
    },
    {
     "data": {
      "application/vnd.jupyter.widget-view+json": {
       "model_id": "14c7f3b4c982486eb2421c7cab98ea8b",
       "version_major": 2,
       "version_minor": 0
      },
      "text/plain": [
       "  0%|          | 0/110 [00:00<?, ?it/s]"
      ]
     },
     "metadata": {},
     "output_type": "display_data"
    },
    {
     "name": "stderr",
     "output_type": "stream",
     "text": [
      "c:\\Users\\Hrishita Chakrabarti\\anaconda3\\envs\\SOLandChildren\\lib\\site-packages\\scipy\\spatial\\distance.py:1249: RuntimeWarning: invalid value encountered in divide\n",
      "  p = p / np.sum(p, axis=axis, keepdims=True)\n",
      "c:\\Users\\Hrishita Chakrabarti\\anaconda3\\envs\\SOLandChildren\\lib\\site-packages\\scipy\\spatial\\distance.py:1249: RuntimeWarning: invalid value encountered in divide\n",
      "  p = p / np.sum(p, axis=axis, keepdims=True)\n",
      "c:\\Users\\Hrishita Chakrabarti\\anaconda3\\envs\\SOLandChildren\\lib\\site-packages\\scipy\\spatial\\distance.py:1249: RuntimeWarning: invalid value encountered in divide\n",
      "  p = p / np.sum(p, axis=axis, keepdims=True)\n",
      "c:\\Users\\Hrishita Chakrabarti\\anaconda3\\envs\\SOLandChildren\\lib\\site-packages\\scipy\\spatial\\distance.py:1249: RuntimeWarning: invalid value encountered in divide\n",
      "  p = p / np.sum(p, axis=axis, keepdims=True)\n",
      "c:\\Users\\Hrishita Chakrabarti\\anaconda3\\envs\\SOLandChildren\\lib\\site-packages\\scipy\\spatial\\distance.py:1249: RuntimeWarning: invalid value encountered in divide\n",
      "  p = p / np.sum(p, axis=axis, keepdims=True)\n",
      "c:\\Users\\Hrishita Chakrabarti\\anaconda3\\envs\\SOLandChildren\\lib\\site-packages\\scipy\\spatial\\distance.py:1249: RuntimeWarning: invalid value encountered in divide\n",
      "  p = p / np.sum(p, axis=axis, keepdims=True)\n",
      "c:\\Users\\Hrishita Chakrabarti\\anaconda3\\envs\\SOLandChildren\\lib\\site-packages\\scipy\\spatial\\distance.py:1249: RuntimeWarning: invalid value encountered in divide\n",
      "  p = p / np.sum(p, axis=axis, keepdims=True)\n",
      "c:\\Users\\Hrishita Chakrabarti\\anaconda3\\envs\\SOLandChildren\\lib\\site-packages\\scipy\\spatial\\distance.py:1249: RuntimeWarning: invalid value encountered in divide\n",
      "  p = p / np.sum(p, axis=axis, keepdims=True)\n",
      "c:\\Users\\Hrishita Chakrabarti\\anaconda3\\envs\\SOLandChildren\\lib\\site-packages\\scipy\\spatial\\distance.py:1249: RuntimeWarning: invalid value encountered in divide\n",
      "  p = p / np.sum(p, axis=axis, keepdims=True)\n",
      "c:\\Users\\Hrishita Chakrabarti\\anaconda3\\envs\\SOLandChildren\\lib\\site-packages\\scipy\\spatial\\distance.py:1249: RuntimeWarning: invalid value encountered in divide\n",
      "  p = p / np.sum(p, axis=axis, keepdims=True)\n",
      "c:\\Users\\Hrishita Chakrabarti\\anaconda3\\envs\\SOLandChildren\\lib\\site-packages\\scipy\\spatial\\distance.py:1249: RuntimeWarning: invalid value encountered in divide\n",
      "  p = p / np.sum(p, axis=axis, keepdims=True)\n",
      "c:\\Users\\Hrishita Chakrabarti\\anaconda3\\envs\\SOLandChildren\\lib\\site-packages\\scipy\\spatial\\distance.py:1249: RuntimeWarning: invalid value encountered in divide\n",
      "  p = p / np.sum(p, axis=axis, keepdims=True)\n",
      "c:\\Users\\Hrishita Chakrabarti\\anaconda3\\envs\\SOLandChildren\\lib\\site-packages\\scipy\\spatial\\distance.py:1249: RuntimeWarning: invalid value encountered in divide\n",
      "  p = p / np.sum(p, axis=axis, keepdims=True)\n",
      "c:\\Users\\Hrishita Chakrabarti\\anaconda3\\envs\\SOLandChildren\\lib\\site-packages\\scipy\\spatial\\distance.py:1249: RuntimeWarning: invalid value encountered in divide\n",
      "  p = p / np.sum(p, axis=axis, keepdims=True)\n",
      "c:\\Users\\Hrishita Chakrabarti\\anaconda3\\envs\\SOLandChildren\\lib\\site-packages\\scipy\\spatial\\distance.py:1249: RuntimeWarning: invalid value encountered in divide\n",
      "  p = p / np.sum(p, axis=axis, keepdims=True)\n",
      "c:\\Users\\Hrishita Chakrabarti\\anaconda3\\envs\\SOLandChildren\\lib\\site-packages\\scipy\\spatial\\distance.py:1249: RuntimeWarning: invalid value encountered in divide\n",
      "  p = p / np.sum(p, axis=axis, keepdims=True)\n",
      "c:\\Users\\Hrishita Chakrabarti\\anaconda3\\envs\\SOLandChildren\\lib\\site-packages\\scipy\\spatial\\distance.py:1249: RuntimeWarning: invalid value encountered in divide\n",
      "  p = p / np.sum(p, axis=axis, keepdims=True)\n",
      "c:\\Users\\Hrishita Chakrabarti\\anaconda3\\envs\\SOLandChildren\\lib\\site-packages\\scipy\\spatial\\distance.py:1249: RuntimeWarning: invalid value encountered in divide\n",
      "  p = p / np.sum(p, axis=axis, keepdims=True)\n",
      "c:\\Users\\Hrishita Chakrabarti\\anaconda3\\envs\\SOLandChildren\\lib\\site-packages\\scipy\\spatial\\distance.py:1249: RuntimeWarning: invalid value encountered in divide\n",
      "  p = p / np.sum(p, axis=axis, keepdims=True)\n",
      "c:\\Users\\Hrishita Chakrabarti\\anaconda3\\envs\\SOLandChildren\\lib\\site-packages\\scipy\\spatial\\distance.py:1249: RuntimeWarning: invalid value encountered in divide\n",
      "  p = p / np.sum(p, axis=axis, keepdims=True)\n",
      "c:\\Users\\Hrishita Chakrabarti\\anaconda3\\envs\\SOLandChildren\\lib\\site-packages\\scipy\\spatial\\distance.py:1249: RuntimeWarning: invalid value encountered in divide\n",
      "  p = p / np.sum(p, axis=axis, keepdims=True)\n",
      "c:\\Users\\Hrishita Chakrabarti\\anaconda3\\envs\\SOLandChildren\\lib\\site-packages\\scipy\\spatial\\distance.py:1249: RuntimeWarning: invalid value encountered in divide\n",
      "  p = p / np.sum(p, axis=axis, keepdims=True)\n",
      "c:\\Users\\Hrishita Chakrabarti\\anaconda3\\envs\\SOLandChildren\\lib\\site-packages\\scipy\\spatial\\distance.py:1249: RuntimeWarning: invalid value encountered in divide\n",
      "  p = p / np.sum(p, axis=axis, keepdims=True)\n",
      "c:\\Users\\Hrishita Chakrabarti\\anaconda3\\envs\\SOLandChildren\\lib\\site-packages\\scipy\\spatial\\distance.py:1249: RuntimeWarning: invalid value encountered in divide\n",
      "  p = p / np.sum(p, axis=axis, keepdims=True)\n",
      "c:\\Users\\Hrishita Chakrabarti\\anaconda3\\envs\\SOLandChildren\\lib\\site-packages\\scipy\\spatial\\distance.py:1249: RuntimeWarning: invalid value encountered in divide\n",
      "  p = p / np.sum(p, axis=axis, keepdims=True)\n",
      "c:\\Users\\Hrishita Chakrabarti\\anaconda3\\envs\\SOLandChildren\\lib\\site-packages\\scipy\\spatial\\distance.py:1249: RuntimeWarning: invalid value encountered in divide\n",
      "  p = p / np.sum(p, axis=axis, keepdims=True)\n",
      "c:\\Users\\Hrishita Chakrabarti\\anaconda3\\envs\\SOLandChildren\\lib\\site-packages\\scipy\\spatial\\distance.py:1249: RuntimeWarning: invalid value encountered in divide\n",
      "  p = p / np.sum(p, axis=axis, keepdims=True)\n",
      "c:\\Users\\Hrishita Chakrabarti\\anaconda3\\envs\\SOLandChildren\\lib\\site-packages\\scipy\\spatial\\distance.py:1249: RuntimeWarning: invalid value encountered in divide\n",
      "  p = p / np.sum(p, axis=axis, keepdims=True)\n",
      "c:\\Users\\Hrishita Chakrabarti\\anaconda3\\envs\\SOLandChildren\\lib\\site-packages\\scipy\\spatial\\distance.py:1249: RuntimeWarning: invalid value encountered in divide\n",
      "  p = p / np.sum(p, axis=axis, keepdims=True)\n",
      "c:\\Users\\Hrishita Chakrabarti\\anaconda3\\envs\\SOLandChildren\\lib\\site-packages\\scipy\\spatial\\distance.py:1250: RuntimeWarning: invalid value encountered in divide\n",
      "  q = q / np.sum(q, axis=axis, keepdims=True)\n",
      "c:\\Users\\Hrishita Chakrabarti\\anaconda3\\envs\\SOLandChildren\\lib\\site-packages\\scipy\\spatial\\distance.py:1249: RuntimeWarning: invalid value encountered in divide\n",
      "  p = p / np.sum(p, axis=axis, keepdims=True)\n",
      "c:\\Users\\Hrishita Chakrabarti\\anaconda3\\envs\\SOLandChildren\\lib\\site-packages\\scipy\\spatial\\distance.py:1249: RuntimeWarning: invalid value encountered in divide\n",
      "  p = p / np.sum(p, axis=axis, keepdims=True)\n",
      "c:\\Users\\Hrishita Chakrabarti\\anaconda3\\envs\\SOLandChildren\\lib\\site-packages\\scipy\\spatial\\distance.py:1249: RuntimeWarning: invalid value encountered in divide\n",
      "  p = p / np.sum(p, axis=axis, keepdims=True)\n",
      "c:\\Users\\Hrishita Chakrabarti\\anaconda3\\envs\\SOLandChildren\\lib\\site-packages\\scipy\\spatial\\distance.py:1249: RuntimeWarning: invalid value encountered in divide\n",
      "  p = p / np.sum(p, axis=axis, keepdims=True)\n",
      "c:\\Users\\Hrishita Chakrabarti\\anaconda3\\envs\\SOLandChildren\\lib\\site-packages\\scipy\\spatial\\distance.py:1250: RuntimeWarning: invalid value encountered in divide\n",
      "  q = q / np.sum(q, axis=axis, keepdims=True)\n",
      "c:\\Users\\Hrishita Chakrabarti\\anaconda3\\envs\\SOLandChildren\\lib\\site-packages\\scipy\\spatial\\distance.py:1250: RuntimeWarning: invalid value encountered in divide\n",
      "  q = q / np.sum(q, axis=axis, keepdims=True)\n",
      "c:\\Users\\Hrishita Chakrabarti\\anaconda3\\envs\\SOLandChildren\\lib\\site-packages\\scipy\\spatial\\distance.py:1249: RuntimeWarning: invalid value encountered in divide\n",
      "  p = p / np.sum(p, axis=axis, keepdims=True)\n",
      "c:\\Users\\Hrishita Chakrabarti\\anaconda3\\envs\\SOLandChildren\\lib\\site-packages\\scipy\\spatial\\distance.py:1249: RuntimeWarning: invalid value encountered in divide\n",
      "  p = p / np.sum(p, axis=axis, keepdims=True)\n",
      "c:\\Users\\Hrishita Chakrabarti\\anaconda3\\envs\\SOLandChildren\\lib\\site-packages\\scipy\\spatial\\distance.py:1249: RuntimeWarning: invalid value encountered in divide\n",
      "  p = p / np.sum(p, axis=axis, keepdims=True)\n",
      "c:\\Users\\Hrishita Chakrabarti\\anaconda3\\envs\\SOLandChildren\\lib\\site-packages\\scipy\\spatial\\distance.py:1249: RuntimeWarning: invalid value encountered in divide\n",
      "  p = p / np.sum(p, axis=axis, keepdims=True)\n",
      "c:\\Users\\Hrishita Chakrabarti\\anaconda3\\envs\\SOLandChildren\\lib\\site-packages\\scipy\\spatial\\distance.py:1249: RuntimeWarning: invalid value encountered in divide\n",
      "  p = p / np.sum(p, axis=axis, keepdims=True)\n",
      "c:\\Users\\Hrishita Chakrabarti\\anaconda3\\envs\\SOLandChildren\\lib\\site-packages\\scipy\\spatial\\distance.py:1249: RuntimeWarning: invalid value encountered in divide\n",
      "  p = p / np.sum(p, axis=axis, keepdims=True)\n",
      "c:\\Users\\Hrishita Chakrabarti\\anaconda3\\envs\\SOLandChildren\\lib\\site-packages\\scipy\\spatial\\distance.py:1249: RuntimeWarning: invalid value encountered in divide\n",
      "  p = p / np.sum(p, axis=axis, keepdims=True)\n",
      "c:\\Users\\Hrishita Chakrabarti\\anaconda3\\envs\\SOLandChildren\\lib\\site-packages\\scipy\\spatial\\distance.py:1249: RuntimeWarning: invalid value encountered in divide\n",
      "  p = p / np.sum(p, axis=axis, keepdims=True)\n",
      "c:\\Users\\Hrishita Chakrabarti\\anaconda3\\envs\\SOLandChildren\\lib\\site-packages\\scipy\\spatial\\distance.py:1249: RuntimeWarning: invalid value encountered in divide\n",
      "  p = p / np.sum(p, axis=axis, keepdims=True)\n",
      "c:\\Users\\Hrishita Chakrabarti\\anaconda3\\envs\\SOLandChildren\\lib\\site-packages\\scipy\\spatial\\distance.py:1249: RuntimeWarning: invalid value encountered in divide\n",
      "  p = p / np.sum(p, axis=axis, keepdims=True)\n",
      "c:\\Users\\Hrishita Chakrabarti\\anaconda3\\envs\\SOLandChildren\\lib\\site-packages\\scipy\\spatial\\distance.py:1249: RuntimeWarning: invalid value encountered in divide\n",
      "  p = p / np.sum(p, axis=axis, keepdims=True)\n",
      "c:\\Users\\Hrishita Chakrabarti\\anaconda3\\envs\\SOLandChildren\\lib\\site-packages\\scipy\\spatial\\distance.py:1249: RuntimeWarning: invalid value encountered in divide\n",
      "  p = p / np.sum(p, axis=axis, keepdims=True)\n",
      "c:\\Users\\Hrishita Chakrabarti\\anaconda3\\envs\\SOLandChildren\\lib\\site-packages\\scipy\\spatial\\distance.py:1249: RuntimeWarning: invalid value encountered in divide\n",
      "  p = p / np.sum(p, axis=axis, keepdims=True)\n",
      "c:\\Users\\Hrishita Chakrabarti\\anaconda3\\envs\\SOLandChildren\\lib\\site-packages\\scipy\\spatial\\distance.py:1249: RuntimeWarning: invalid value encountered in divide\n",
      "  p = p / np.sum(p, axis=axis, keepdims=True)\n",
      "c:\\Users\\Hrishita Chakrabarti\\anaconda3\\envs\\SOLandChildren\\lib\\site-packages\\scipy\\spatial\\distance.py:1249: RuntimeWarning: invalid value encountered in divide\n",
      "  p = p / np.sum(p, axis=axis, keepdims=True)\n"
     ]
    }
   ],
   "source": [
    "compute_JSD(OG_resp_df=gemma_OG, RQ_resp_df=gemma_RQ, LLM=\"gemma\")\n",
    "compute_JSD(OG_resp_df=gpt_OG, RQ_resp_df=gpt_RQ, LLM=\"gpt\")"
   ]
  },
  {
   "cell_type": "markdown",
   "metadata": {},
   "source": [
    "### JSD from average vector"
   ]
  },
  {
   "cell_type": "code",
   "execution_count": 7,
   "metadata": {},
   "outputs": [
    {
     "data": {
      "text/plain": [
       "0.01747069927553432"
      ]
     },
     "execution_count": 7,
     "metadata": {},
     "output_type": "execute_result"
    }
   ],
   "source": [
    "avg_sentiment = np.average(np.array(queries[[\"positive\", \"negative\", \"neutral\"]], dtype=float), axis=0)\n",
    "avg_emotion = np.average(np.array(queries[[\"joy\", \"anger\", \"surprise\", \"disgust\", \"fear\", \"sadness\", \"trust\", \"expectations\"]], dtype=float), axis=0)\n",
    "distance.jensenshannon(avg_sentiment, np.array(queries.iloc[0][[\"positive\", \"negative\", \"neutral\"]], dtype=float))"
   ]
  },
  {
   "cell_type": "code",
   "execution_count": 17,
   "metadata": {},
   "outputs": [
    {
     "data": {
      "application/vnd.jupyter.widget-view+json": {
       "model_id": "aedf3074371b4ca983da4fcf415845fa",
       "version_major": 2,
       "version_minor": 0
      },
      "text/plain": [
       "  0%|          | 0/110 [00:00<?, ?it/s]"
      ]
     },
     "metadata": {},
     "output_type": "display_data"
    },
    {
     "name": "stderr",
     "output_type": "stream",
     "text": [
      "c:\\Users\\Hrishita Chakrabarti\\anaconda3\\envs\\SOLandChildren\\lib\\site-packages\\scipy\\spatial\\distance.py:1250: RuntimeWarning: invalid value encountered in divide\n",
      "  q = q / np.sum(q, axis=axis, keepdims=True)\n",
      "c:\\Users\\Hrishita Chakrabarti\\anaconda3\\envs\\SOLandChildren\\lib\\site-packages\\scipy\\spatial\\distance.py:1250: RuntimeWarning: invalid value encountered in divide\n",
      "  q = q / np.sum(q, axis=axis, keepdims=True)\n",
      "c:\\Users\\Hrishita Chakrabarti\\anaconda3\\envs\\SOLandChildren\\lib\\site-packages\\scipy\\spatial\\distance.py:1250: RuntimeWarning: invalid value encountered in divide\n",
      "  q = q / np.sum(q, axis=axis, keepdims=True)\n",
      "c:\\Users\\Hrishita Chakrabarti\\anaconda3\\envs\\SOLandChildren\\lib\\site-packages\\scipy\\spatial\\distance.py:1250: RuntimeWarning: invalid value encountered in divide\n",
      "  q = q / np.sum(q, axis=axis, keepdims=True)\n",
      "c:\\Users\\Hrishita Chakrabarti\\anaconda3\\envs\\SOLandChildren\\lib\\site-packages\\scipy\\spatial\\distance.py:1250: RuntimeWarning: invalid value encountered in divide\n",
      "  q = q / np.sum(q, axis=axis, keepdims=True)\n",
      "c:\\Users\\Hrishita Chakrabarti\\anaconda3\\envs\\SOLandChildren\\lib\\site-packages\\scipy\\spatial\\distance.py:1250: RuntimeWarning: invalid value encountered in divide\n",
      "  q = q / np.sum(q, axis=axis, keepdims=True)\n",
      "c:\\Users\\Hrishita Chakrabarti\\anaconda3\\envs\\SOLandChildren\\lib\\site-packages\\scipy\\spatial\\distance.py:1250: RuntimeWarning: invalid value encountered in divide\n",
      "  q = q / np.sum(q, axis=axis, keepdims=True)\n",
      "c:\\Users\\Hrishita Chakrabarti\\anaconda3\\envs\\SOLandChildren\\lib\\site-packages\\scipy\\spatial\\distance.py:1250: RuntimeWarning: invalid value encountered in divide\n",
      "  q = q / np.sum(q, axis=axis, keepdims=True)\n",
      "c:\\Users\\Hrishita Chakrabarti\\anaconda3\\envs\\SOLandChildren\\lib\\site-packages\\scipy\\spatial\\distance.py:1250: RuntimeWarning: invalid value encountered in divide\n",
      "  q = q / np.sum(q, axis=axis, keepdims=True)\n",
      "c:\\Users\\Hrishita Chakrabarti\\anaconda3\\envs\\SOLandChildren\\lib\\site-packages\\scipy\\spatial\\distance.py:1250: RuntimeWarning: invalid value encountered in divide\n",
      "  q = q / np.sum(q, axis=axis, keepdims=True)\n",
      "c:\\Users\\Hrishita Chakrabarti\\anaconda3\\envs\\SOLandChildren\\lib\\site-packages\\scipy\\spatial\\distance.py:1250: RuntimeWarning: invalid value encountered in divide\n",
      "  q = q / np.sum(q, axis=axis, keepdims=True)\n",
      "c:\\Users\\Hrishita Chakrabarti\\anaconda3\\envs\\SOLandChildren\\lib\\site-packages\\scipy\\spatial\\distance.py:1250: RuntimeWarning: invalid value encountered in divide\n",
      "  q = q / np.sum(q, axis=axis, keepdims=True)\n",
      "c:\\Users\\Hrishita Chakrabarti\\anaconda3\\envs\\SOLandChildren\\lib\\site-packages\\scipy\\spatial\\distance.py:1250: RuntimeWarning: invalid value encountered in divide\n",
      "  q = q / np.sum(q, axis=axis, keepdims=True)\n",
      "c:\\Users\\Hrishita Chakrabarti\\anaconda3\\envs\\SOLandChildren\\lib\\site-packages\\scipy\\spatial\\distance.py:1250: RuntimeWarning: invalid value encountered in divide\n",
      "  q = q / np.sum(q, axis=axis, keepdims=True)\n",
      "c:\\Users\\Hrishita Chakrabarti\\anaconda3\\envs\\SOLandChildren\\lib\\site-packages\\scipy\\spatial\\distance.py:1250: RuntimeWarning: invalid value encountered in divide\n",
      "  q = q / np.sum(q, axis=axis, keepdims=True)\n",
      "c:\\Users\\Hrishita Chakrabarti\\anaconda3\\envs\\SOLandChildren\\lib\\site-packages\\scipy\\spatial\\distance.py:1250: RuntimeWarning: invalid value encountered in divide\n",
      "  q = q / np.sum(q, axis=axis, keepdims=True)\n"
     ]
    }
   ],
   "source": [
    "queries_JSD = []\n",
    "for _, row in tqdm(queries.iterrows(), total=len(queries)):\n",
    "    sentiment = np.array(row[[\"positive\", \"negative\", \"neutral\"]], dtype=float)\n",
    "    emotion = np.array(row[[\"joy\", \"anger\", \"surprise\", \"disgust\", \"fear\", \"sadness\", \"trust\", \"expectations\"]], dtype=float)\n",
    "    sentiment_JSD = distance.jensenshannon(avg_sentiment, sentiment)\n",
    "    emotion_JSD = distance.jensenshannon(avg_emotion, emotion)\n",
    "    queries_JSD.append([row[\"query\"], sentiment_JSD, emotion_JSD])\n",
    "\n",
    "queries_JSD_df = pd.DataFrame(queries_JSD, columns=[\"query\", \"sentiment_JSD\", \"emotion_JSD\"])\n",
    "queries_JSD_df.to_csv(\"../Results/query_avg_jsd.csv\", index=False)"
   ]
  },
  {
   "cell_type": "code",
   "execution_count": 29,
   "metadata": {},
   "outputs": [],
   "source": [
    "def compute_JSD_from_avg(LLM, OG_resp, RQ_resp):\n",
    "    OG_avg_sentiment = np.average(np.array(OG_resp[[\"positive\", \"negative\", \"neutral\"]], dtype=float), axis=0)\n",
    "    OG_avg_emotion = np.average(np.array(OG_resp[[\"joy\", \"anger\", \"surprise\", \"disgust\", \"fear\", \"sadness\", \"trust\", \"expectations\"]], dtype=float), axis=0)\n",
    "    \n",
    "    RQ_male = RQ_resp.loc[RQ_resp[\"gender\"]==\"male\"]\n",
    "    RQ_male_avg_sentiment = np.average(np.array(RQ_male[[\"positive\", \"negative\", \"neutral\"]], dtype=float), axis=0)\n",
    "    RQ_male_avg_emotion = np.average(np.array(RQ_male[[\"joy\", \"anger\", \"surprise\", \"disgust\", \"fear\", \"sadness\", \"trust\", \"expectations\"]], dtype=float), axis=0)\n",
    "\n",
    "    RQ_female = RQ_resp.loc[RQ_resp[\"gender\"]==\"female\"]\n",
    "    RQ_female_avg_sentiment = np.average(np.array(RQ_female[[\"positive\", \"negative\", \"neutral\"]], dtype=float), axis=0)\n",
    "    RQ_female_avg_emotion = np.average(np.array(RQ_female[[\"joy\", \"anger\", \"surprise\", \"disgust\", \"fear\", \"sadness\", \"trust\", \"expectations\"]], dtype=float), axis=0)\n",
    "\n",
    "    avg_JSD = []\n",
    "\n",
    "    for query in tqdm(queries[\"query\"]):\n",
    "        OG_sentiment = np.array(OG_resp.loc[OG_resp[\"query\"]==query].iloc[0][[\"positive\", \"negative\", \"neutral\"]], dtype=float)\n",
    "        OG_emotion = np.array(OG_resp.loc[OG_resp[\"query\"]==query].iloc[0][[\"joy\", \"anger\", \"surprise\", \"disgust\", \"fear\", \"sadness\", \"trust\", \"expectations\"]], dtype=float)\n",
    "        OG_sentiment_JSD = distance.jensenshannon(OG_avg_sentiment, OG_sentiment)\n",
    "        OG_emotion_JSD = distance.jensenshannon(OG_avg_emotion, OG_emotion)\n",
    "\n",
    "        RQ_male_sentiment = np.array(RQ_male.loc[RQ_male[\"query\"]==query].iloc[0][[\"positive\", \"negative\", \"neutral\"]], dtype=float)\n",
    "        RQ_male_emotion = np.array(RQ_male.loc[RQ_male[\"query\"]==query].iloc[0][[\"joy\", \"anger\", \"surprise\", \"disgust\", \"fear\", \"sadness\", \"trust\", \"expectations\"]], dtype=float)\n",
    "        RQ_male_sentiment_JSD = distance.jensenshannon(RQ_male_avg_sentiment, RQ_male_sentiment)\n",
    "        RQ_male_emotion_JSD = distance.jensenshannon(RQ_male_avg_emotion, RQ_male_emotion)\n",
    "\n",
    "        RQ_female_sentiment = np.array(RQ_female.loc[RQ_female[\"query\"]==query].iloc[0][[\"positive\", \"negative\", \"neutral\"]], dtype=float)\n",
    "        RQ_female_emotion = np.array(RQ_female.loc[RQ_female[\"query\"]==query].iloc[0][[\"joy\", \"anger\", \"surprise\", \"disgust\", \"fear\", \"sadness\", \"trust\", \"expectations\"]], dtype=float)\n",
    "        RQ_female_sentiment_JSD = distance.jensenshannon(RQ_female_avg_sentiment, RQ_female_sentiment)\n",
    "        RQ_female_emotion_JSD = distance.jensenshannon(RQ_female_avg_emotion, RQ_female_emotion)\n",
    "\n",
    "        avg_JSD.append([query, OG_sentiment_JSD, OG_emotion_JSD, RQ_male_sentiment_JSD, RQ_male_emotion_JSD, RQ_female_sentiment_JSD, RQ_female_emotion_JSD])\n",
    "\n",
    "    avg_JSD_df = pd.DataFrame(avg_JSD, columns=[\"query\", \"OG_sentiment_JSD\", \"OG_emotion_JSD\", \"RQ_male_sentiment_JSD\", \"RQ_male_emotion_JSD\", \"RQ_female_sentiment_JSD\", \"RQ_female_emotion_JSD\"])\n",
    "    avg_JSD_df.to_csv(\"../Results/\" + LLM + \"_avg_JSD.csv\", index=False)"
   ]
  },
  {
   "cell_type": "code",
   "execution_count": 30,
   "metadata": {},
   "outputs": [
    {
     "data": {
      "application/vnd.jupyter.widget-view+json": {
       "model_id": "d0de904328a24770929c776050b7dab4",
       "version_major": 2,
       "version_minor": 0
      },
      "text/plain": [
       "  0%|          | 0/110 [00:00<?, ?it/s]"
      ]
     },
     "metadata": {},
     "output_type": "display_data"
    },
    {
     "data": {
      "application/vnd.jupyter.widget-view+json": {
       "model_id": "8f61ada60ce44e7d91c6fe56ffe5364d",
       "version_major": 2,
       "version_minor": 0
      },
      "text/plain": [
       "  0%|          | 0/110 [00:00<?, ?it/s]"
      ]
     },
     "metadata": {},
     "output_type": "display_data"
    },
    {
     "name": "stderr",
     "output_type": "stream",
     "text": [
      "c:\\Users\\Hrishita Chakrabarti\\anaconda3\\envs\\SOLandChildren\\lib\\site-packages\\scipy\\spatial\\distance.py:1250: RuntimeWarning: invalid value encountered in divide\n",
      "  q = q / np.sum(q, axis=axis, keepdims=True)\n",
      "c:\\Users\\Hrishita Chakrabarti\\anaconda3\\envs\\SOLandChildren\\lib\\site-packages\\scipy\\spatial\\distance.py:1250: RuntimeWarning: invalid value encountered in divide\n",
      "  q = q / np.sum(q, axis=axis, keepdims=True)\n",
      "c:\\Users\\Hrishita Chakrabarti\\anaconda3\\envs\\SOLandChildren\\lib\\site-packages\\scipy\\spatial\\distance.py:1250: RuntimeWarning: invalid value encountered in divide\n",
      "  q = q / np.sum(q, axis=axis, keepdims=True)\n"
     ]
    }
   ],
   "source": [
    "compute_JSD_from_avg(\"gemma\", gemma_OG, gemma_RQ)\n",
    "compute_JSD_from_avg(\"gpt\", gpt_OG, gpt_RQ)"
   ]
  },
  {
   "cell_type": "code",
   "execution_count": null,
   "metadata": {},
   "outputs": [],
   "source": []
  }
 ],
 "metadata": {
  "kernelspec": {
   "display_name": "SOLandChildren",
   "language": "python",
   "name": "python3"
  },
  "language_info": {
   "codemirror_mode": {
    "name": "ipython",
    "version": 3
   },
   "file_extension": ".py",
   "mimetype": "text/x-python",
   "name": "python",
   "nbconvert_exporter": "python",
   "pygments_lexer": "ipython3",
   "version": "3.9.19"
  }
 },
 "nbformat": 4,
 "nbformat_minor": 2
}
