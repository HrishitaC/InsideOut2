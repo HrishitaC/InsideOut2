{
 "cells": [
  {
   "cell_type": "code",
   "execution_count": 10,
   "metadata": {},
   "outputs": [
    {
     "name": "stderr",
     "output_type": "stream",
     "text": [
      "Device set to use cpu\n"
     ]
    },
    {
     "name": "stdout",
     "output_type": "stream",
     "text": [
      "[{'label': 'LABEL_4', 'score': 0.9962683916091919}]\n"
     ]
    }
   ],
   "source": [
    "from transformers import pipeline\n",
    "\n",
    "# Load the fine-tuned model\n",
    "classifier = pipeline(\"sentiment-analysis\", model=\"visegradmedia-emotion/Emotion_RoBERTa_pooled_V4\")\n",
    "\n",
    "# Example usage\n",
    "result = classifier(\"Nagyon örömtelinek érzem magam ma!\")\n",
    "print(result)\n"
   ]
  },
  {
   "cell_type": "code",
   "execution_count": 3,
   "metadata": {},
   "outputs": [
    {
     "name": "stdout",
     "output_type": "stream",
     "text": [
      "LABEL_0: 0.000813175029179547%\n",
      "LABEL_1: 0.0003719739652296994%\n",
      "LABEL_2: 0.0005339624294720124%\n",
      "LABEL_3: 0.0006708666205668123%\n",
      "LABEL_4: 99.99626874923706%\n",
      "LABEL_5: 0.0013414165550784674%\n"
     ]
    }
   ],
   "source": [
    "from transformers import AutoTokenizer\n",
    "from transformers import AutoModelForSequenceClassification\n",
    "import torch \n",
    "text = \"Nagyon örömtelinek érzem magam ma!\"\n",
    "\n",
    "tokenizer = AutoTokenizer.from_pretrained(\"visegradmedia-emotion/Emotion_RoBERTa_pooled_V4\")\n",
    "model = AutoModelForSequenceClassification.from_pretrained(\"visegradmedia-emotion/Emotion_RoBERTa_pooled_V4\")\n",
    "inputs = tokenizer(text, return_tensors=\"pt\")\n",
    "with torch.no_grad():\n",
    "    logits = model(**inputs).logits\n",
    "\n",
    "emotion_results = torch.softmax(logits, dim=1).tolist()[0]\n",
    "for i in range(len(model.config.id2label)):\n",
    "    print(f\"{model.config.id2label[i]}: {emotion_results[i] * 100}%\")\n",
    "# predicted_class_id\n",
    "# model.config.id2label[predicted_class_id]\n",
    "# logits"
   ]
  },
  {
   "cell_type": "code",
   "execution_count": null,
   "metadata": {},
   "outputs": [
    {
     "name": "stderr",
     "output_type": "stream",
     "text": [
      "Device set to use cpu\n",
      "Device set to use cpu\n"
     ]
    },
    {
     "name": "stdout",
     "output_type": "stream",
     "text": [
      "[[{'label': 'fear', 'score': 0.996170699596405}, {'label': 'sadness', 'score': 0.001554786809720099}, {'label': 'joy', 'score': 0.001224555540829897}, {'label': 'anger', 'score': 0.0010499206837266684}]]\n",
      "[[{'label': 'negative', 'score': 0.9997203946113586}, {'label': 'positive', 'score': 0.00027956307167187333}]]\n"
     ]
    }
   ],
   "source": [
    "from transformers import pipeline\n",
    "\n",
    "text_examples = [\n",
    "    \"sono felice\",\n",
    "    \"La deforestazione è un male\",\n",
    "    \"Questo è spaventoso\",\n",
    "    \"Questa è una mela marcia\",\n",
    "    \"mostro nero\",\n",
    "    \"lei è una bellezza terribile\"\n",
    "]\n",
    "emo_classifier = pipeline(\"text-classification\",model='MilaNLProc/feel-it-italian-emotion',top_k=4)\n",
    "sent_classifier = pipeline(\"text-classification\",model='MilaNLProc/feel-it-italian-sentiment',top_k=2)\n",
    "\n",
    "\n",
    "print(emo_classifier(text_examples))\n",
    "print(sent_classifier(text_examples))"
   ]
  },
  {
   "cell_type": "code",
   "execution_count": null,
   "metadata": {},
   "outputs": [],
   "source": []
  }
 ],
 "metadata": {
  "kernelspec": {
   "display_name": "SOLandChildren",
   "language": "python",
   "name": "python3"
  },
  "language_info": {
   "codemirror_mode": {
    "name": "ipython",
    "version": 3
   },
   "file_extension": ".py",
   "mimetype": "text/x-python",
   "name": "python",
   "nbconvert_exporter": "python",
   "pygments_lexer": "ipython3",
   "version": "3.9.19"
  }
 },
 "nbformat": 4,
 "nbformat_minor": 2
}
