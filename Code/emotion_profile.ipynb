{
 "cells": [
  {
   "cell_type": "code",
   "execution_count": 9,
   "metadata": {},
   "outputs": [],
   "source": [
    "import re\n",
    "import pandas as pd\n",
    "\n",
    "f = open(\"../Data/DPLp-IT_lrec2016.txt\", \"r\")\n",
    "\n",
    "lines = f.readlines()\n",
    "\n",
    "f.close()\n",
    "\n",
    "lexicon = []\n",
    "\n",
    "for line in lines:\n",
    "\n",
    "    temp = re.sub(\"\\n\", \"\", line)\n",
    "    results = re.split(\"::|\\t|,|\\n\", temp)\n",
    "    lexicon.append(results)\n",
    "\n",
    "lexicon = pd.DataFrame(lexicon, columns=[\"word\", \"pos\", \"pos_score\", \"neg_score\", \"neu_score\"])\n",
    "\n",
    "lexicon.head()\n",
    "lexicon.to_csv(\"../Data/IT_sentiment_lexicon.csv\", index=False)\n"
   ]
  },
  {
   "cell_type": "code",
   "execution_count": 5,
   "metadata": {},
   "outputs": [
    {
     "data": {
      "text/html": [
       "<div>\n",
       "<style scoped>\n",
       "    .dataframe tbody tr th:only-of-type {\n",
       "        vertical-align: middle;\n",
       "    }\n",
       "\n",
       "    .dataframe tbody tr th {\n",
       "        vertical-align: top;\n",
       "    }\n",
       "\n",
       "    .dataframe thead th {\n",
       "        text-align: right;\n",
       "    }\n",
       "</style>\n",
       "<table border=\"1\" class=\"dataframe\">\n",
       "  <thead>\n",
       "    <tr style=\"text-align: right;\">\n",
       "      <th></th>\n",
       "      <th>emotion</th>\n",
       "      <th>word</th>\n",
       "      <th>cosine</th>\n",
       "    </tr>\n",
       "  </thead>\n",
       "  <tbody>\n",
       "    <tr>\n",
       "      <th>0</th>\n",
       "      <td>gioia</td>\n",
       "      <td>festoso-a</td>\n",
       "      <td>0.647874</td>\n",
       "    </tr>\n",
       "    <tr>\n",
       "      <th>1</th>\n",
       "      <td>gioia</td>\n",
       "      <td>euforico-a</td>\n",
       "      <td>0.622582</td>\n",
       "    </tr>\n",
       "    <tr>\n",
       "      <th>2</th>\n",
       "      <td>gioia</td>\n",
       "      <td>esilarante-a</td>\n",
       "      <td>0.622579</td>\n",
       "    </tr>\n",
       "    <tr>\n",
       "      <th>3</th>\n",
       "      <td>gioia</td>\n",
       "      <td>gaio-a</td>\n",
       "      <td>0.617334</td>\n",
       "    </tr>\n",
       "    <tr>\n",
       "      <th>4</th>\n",
       "      <td>gioia</td>\n",
       "      <td>divertito-a</td>\n",
       "      <td>0.614806</td>\n",
       "    </tr>\n",
       "  </tbody>\n",
       "</table>\n",
       "</div>"
      ],
      "text/plain": [
       "  emotion          word    cosine\n",
       "0   gioia     festoso-a  0.647874\n",
       "1   gioia    euforico-a  0.622582\n",
       "2   gioia  esilarante-a  0.622579\n",
       "3   gioia        gaio-a  0.617334\n",
       "4   gioia   divertito-a  0.614806"
      ]
     },
     "execution_count": 5,
     "metadata": {},
     "output_type": "execute_result"
    }
   ],
   "source": [
    "import pandas as pd\n",
    "\n",
    "emotion = pd.read_csv(\"../Data/ItEM.FBNEWS15.cos\", sep=\"\\t\")\n",
    "emotion.head()"
   ]
  },
  {
   "cell_type": "code",
   "execution_count": null,
   "metadata": {},
   "outputs": [],
   "source": []
  }
 ],
 "metadata": {
  "kernelspec": {
   "display_name": "SOLandChildren",
   "language": "python",
   "name": "python3"
  },
  "language_info": {
   "codemirror_mode": {
    "name": "ipython",
    "version": 3
   },
   "file_extension": ".py",
   "mimetype": "text/x-python",
   "name": "python",
   "nbconvert_exporter": "python",
   "pygments_lexer": "ipython3",
   "version": "3.9.19"
  }
 },
 "nbformat": 4,
 "nbformat_minor": 2
}
