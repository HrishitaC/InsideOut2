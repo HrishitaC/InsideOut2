{
 "cells": [
  {
   "cell_type": "code",
   "execution_count": 9,
   "metadata": {},
   "outputs": [],
   "source": [
    "import pandas as pd"
   ]
  },
  {
   "cell_type": "code",
   "execution_count": null,
   "metadata": {},
   "outputs": [
    {
     "data": {
      "text/plain": [
       "(211, 82)"
      ]
     },
     "execution_count": 23,
     "metadata": {},
     "output_type": "execute_result"
    }
   ],
   "source": [
    "data = pd.read_csv(\"../Data/InsideOutData/QL-IT.csv\")\n",
    "data = pd.DataFrame(data[\"user_query\"].unique().tolist(), columns=[\"Query\"])\n",
    "data[\"Prompt Type\"] = [\"General\"]*len(data)\n",
    "data[\"QID\"] = [\"qGEN\"+str(i) for i in range(1, len(data)+1)]\n",
    "\n",
    "queries_emo = pd.read_csv(\"../Data/InsideOutData/QL-IT-Em.csv\")\n",
    "data_emo = pd.DataFrame(queries_emo[\"user_query\"].unique().tolist(), columns=[\"Query\"])\n",
    "data_emo[\"Prompt Type\"] = [\"Emotionally Charged\"]*len(data_emo)\n",
    "data_emo[\"Task Sentiment\"] = [queries_emo.loc[queries_emo[\"user_query\"]==query][\"target\"].tolist()[0] for query in data_emo[\"Query\"]]\n",
    "data_emo[\"QID\"] = [\"qEM\"+str(i) for i in range(1, len(data_emo)+1)]\n",
    "len(data), len(data_emo)"
   ]
  },
  {
   "cell_type": "code",
   "execution_count": 24,
   "metadata": {},
   "outputs": [
    {
     "data": {
      "text/html": [
       "<div>\n",
       "<style scoped>\n",
       "    .dataframe tbody tr th:only-of-type {\n",
       "        vertical-align: middle;\n",
       "    }\n",
       "\n",
       "    .dataframe tbody tr th {\n",
       "        vertical-align: top;\n",
       "    }\n",
       "\n",
       "    .dataframe thead th {\n",
       "        text-align: right;\n",
       "    }\n",
       "</style>\n",
       "<table border=\"1\" class=\"dataframe\">\n",
       "  <thead>\n",
       "    <tr style=\"text-align: right;\">\n",
       "      <th></th>\n",
       "      <th>QID</th>\n",
       "      <th>Query</th>\n",
       "      <th>Prompt Type</th>\n",
       "      <th>Task Sentiment</th>\n",
       "    </tr>\n",
       "  </thead>\n",
       "  <tbody>\n",
       "    <tr>\n",
       "      <th>0</th>\n",
       "      <td>qGEN1</td>\n",
       "      <td>tornado</td>\n",
       "      <td>General</td>\n",
       "      <td>NaN</td>\n",
       "    </tr>\n",
       "    <tr>\n",
       "      <th>1</th>\n",
       "      <td>qGEN2</td>\n",
       "      <td>tornado</td>\n",
       "      <td>General</td>\n",
       "      <td>NaN</td>\n",
       "    </tr>\n",
       "    <tr>\n",
       "      <th>2</th>\n",
       "      <td>qGEN3</td>\n",
       "      <td>piramide egizia</td>\n",
       "      <td>General</td>\n",
       "      <td>NaN</td>\n",
       "    </tr>\n",
       "    <tr>\n",
       "      <th>3</th>\n",
       "      <td>qGEN4</td>\n",
       "      <td>piramidi</td>\n",
       "      <td>General</td>\n",
       "      <td>NaN</td>\n",
       "    </tr>\n",
       "    <tr>\n",
       "      <th>4</th>\n",
       "      <td>qGEN5</td>\n",
       "      <td>qual Ã¨ la piramide egizia piÃ¹ alta</td>\n",
       "      <td>General</td>\n",
       "      <td>NaN</td>\n",
       "    </tr>\n",
       "    <tr>\n",
       "      <th>...</th>\n",
       "      <td>...</td>\n",
       "      <td>...</td>\n",
       "      <td>...</td>\n",
       "      <td>...</td>\n",
       "    </tr>\n",
       "    <tr>\n",
       "      <th>77</th>\n",
       "      <td>qEM78</td>\n",
       "      <td>Quale ghiacciaio si sta scioglendo in modo pre...</td>\n",
       "      <td>Emotionally Charged</td>\n",
       "      <td>Bad</td>\n",
       "    </tr>\n",
       "    <tr>\n",
       "      <th>78</th>\n",
       "      <td>qEM79</td>\n",
       "      <td>Cosa e la isola di plastica</td>\n",
       "      <td>Emotionally Charged</td>\n",
       "      <td>Bad</td>\n",
       "    </tr>\n",
       "    <tr>\n",
       "      <th>79</th>\n",
       "      <td>qEM80</td>\n",
       "      <td>ocean cleanup</td>\n",
       "      <td>Emotionally Charged</td>\n",
       "      <td>Good</td>\n",
       "    </tr>\n",
       "    <tr>\n",
       "      <th>80</th>\n",
       "      <td>qEM81</td>\n",
       "      <td>Dove si trova Ä¾isola di plastica</td>\n",
       "      <td>Emotionally Charged</td>\n",
       "      <td>Bad</td>\n",
       "    </tr>\n",
       "    <tr>\n",
       "      <th>81</th>\n",
       "      <td>qEM82</td>\n",
       "      <td>CosÃ¨ Ä¾isola di plastica</td>\n",
       "      <td>Emotionally Charged</td>\n",
       "      <td>Bad</td>\n",
       "    </tr>\n",
       "  </tbody>\n",
       "</table>\n",
       "<p>293 rows × 4 columns</p>\n",
       "</div>"
      ],
      "text/plain": [
       "      QID                                              Query  \\\n",
       "0   qGEN1                                            tornado   \n",
       "1   qGEN2                                           tornado    \n",
       "2   qGEN3                                   piramide egizia    \n",
       "3   qGEN4                                          piramidi    \n",
       "4   qGEN5               qual Ã¨ la piramide egizia piÃ¹ alta   \n",
       "..    ...                                                ...   \n",
       "77  qEM78  Quale ghiacciaio si sta scioglendo in modo pre...   \n",
       "78  qEM79                        Cosa e la isola di plastica   \n",
       "79  qEM80                                      ocean cleanup   \n",
       "80  qEM81                  Dove si trova Ä¾isola di plastica   \n",
       "81  qEM82                          CosÃ¨ Ä¾isola di plastica   \n",
       "\n",
       "            Prompt Type Task Sentiment  \n",
       "0               General            NaN  \n",
       "1               General            NaN  \n",
       "2               General            NaN  \n",
       "3               General            NaN  \n",
       "4               General            NaN  \n",
       "..                  ...            ...  \n",
       "77  Emotionally Charged            Bad  \n",
       "78  Emotionally Charged            Bad  \n",
       "79  Emotionally Charged           Good  \n",
       "80  Emotionally Charged            Bad  \n",
       "81  Emotionally Charged            Bad  \n",
       "\n",
       "[293 rows x 4 columns]"
      ]
     },
     "execution_count": 24,
     "metadata": {},
     "output_type": "execute_result"
    }
   ],
   "source": [
    "data_comb = pd.concat([data, data_emo])\n",
    "data_comb = data_comb.loc[:,[\"QID\", \"Query\", \"Prompt Type\", \"Task Sentiment\"]]\n",
    "data_comb"
   ]
  },
  {
   "cell_type": "code",
   "execution_count": null,
   "metadata": {},
   "outputs": [],
   "source": [
    "data_comb.to_csv(\"../Data/SIGIR_queries_IT.csv\", index=False)"
   ]
  }
 ],
 "metadata": {
  "kernelspec": {
   "display_name": "SOLandChildren",
   "language": "python",
   "name": "python3"
  },
  "language_info": {
   "codemirror_mode": {
    "name": "ipython",
    "version": 3
   },
   "file_extension": ".py",
   "mimetype": "text/x-python",
   "name": "python",
   "nbconvert_exporter": "python",
   "pygments_lexer": "ipython3",
   "version": "3.9.19"
  }
 },
 "nbformat": 4,
 "nbformat_minor": 2
}
